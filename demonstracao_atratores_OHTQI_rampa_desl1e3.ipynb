{
 "cells": [
  {
   "cell_type": "markdown",
   "id": "19af26d7",
   "metadata": {},
   "source": [
    "# Gráficos com vermelho, verde e amarelo\n",
    "\n",
    "Frederico Furst Bittencourt\n",
    "\n",
    "2023/Nov/24"
   ]
  },
  {
   "cell_type": "markdown",
   "id": "e567ded9",
   "metadata": {},
   "source": [
    "# Introdução"
   ]
  },
  {
   "cell_type": "markdown",
   "id": "026d86ec",
   "metadata": {},
   "source": [
    "## To Do:"
   ]
  },
  {
   "cell_type": "markdown",
   "id": "12eb2af4",
   "metadata": {},
   "source": [
    "1. Organizar loops focados em muitos gráficos bonitos;\n"
   ]
  },
  {
   "cell_type": "markdown",
   "id": "7b87547c",
   "metadata": {},
   "source": [
    "2. Fazer listas com títulos de cada gráfico e variações, montar programaticamente"
   ]
  },
  {
   "cell_type": "markdown",
   "id": "ad90918c",
   "metadata": {},
   "source": [
    "3. Separar código"
   ]
  },
  {
   "cell_type": "markdown",
   "id": "7289de58",
   "metadata": {},
   "source": [
    "4. IMPLEMENTAR cores auerbitt lá no 3D no fim do documento"
   ]
  },
  {
   "cell_type": "code",
   "execution_count": 113,
   "id": "46ce3ce4",
   "metadata": {},
   "outputs": [],
   "source": [
    "import pandas as pd\n",
    "import numpy as np\n",
    "import matplotlib.pyplot as plt\n",
    "# from scipy import signal\n",
    "from scipy.optimize import curve_fit\n",
    "from scipy import stats\n",
    "import EntropyHub as EH\n",
    "import statistics\n",
    "import plotly.graph_objects as go\n",
    "import plotly.express as px"
   ]
  },
  {
   "cell_type": "markdown",
   "id": "e57e3fed",
   "metadata": {},
   "source": [
    "## head 1"
   ]
  },
  {
   "cell_type": "code",
   "execution_count": 129,
   "id": "4a8fb4af",
   "metadata": {},
   "outputs": [],
   "source": [
    "r1, r2, r3 = 0.01, 0.02, 0.03"
   ]
  },
  {
   "cell_type": "code",
   "execution_count": 130,
   "id": "db79b849",
   "metadata": {},
   "outputs": [],
   "source": [
    "p=1"
   ]
  },
  {
   "cell_type": "markdown",
   "id": "d0ce1ab9",
   "metadata": {},
   "source": [
    "Mapa em x,y definido por ig e sig"
   ]
  },
  {
   "cell_type": "code",
   "execution_count": 133,
   "id": "9b249e0d",
   "metadata": {},
   "outputs": [],
   "source": [
    "def ffplot2D_LE11_ER11(x3pre,y1pre):\n",
    "    u = x3pre*1e3\n",
    "    v = y1pre*np.sqrt(ms)*1e3\n",
    "    plt.figure(figsize=(10,8))\n",
    "    plt.grid(visible=True)\n",
    "    plt.xlabel('Strain minus normalized ramp for '+prepos+' ($\\perthousand$)')\n",
    "    plt.ylabel('Strain rate ($\\perthousand.s^{-1}$)')\n",
    "    plt.plot(u,v,)#'.')\n",
    "    assert len(u) == len(v)\n",
    "    n = len(u)\n",
    "    distances = []\n",
    "    delta_u = (max(u)-min(u))/2\n",
    "    print('delta_u: '+str(delta_u))\n",
    "    delta_v = (max(v)-min(v))/2\n",
    "    print('delta_v: '+str(delta_v))\n",
    "    for k in range(n-p):\n",
    "        distances.append(np.sqrt(((u[k+p]-u[k])/delta_u)**2+((v[k+p]-v[k])/delta_v)**2))\n",
    "    u1,u2,u3, v1,v2, v3 = [],[],[],[],[],[]\n",
    "    for k in range(len(distances)):\n",
    "        if distances[k] < r1:\n",
    "            u1.append(u[k])\n",
    "            v1.append(v[k])\n",
    "        if distances[k] < r2:\n",
    "            u2.append(u[k])\n",
    "            v2.append(v[k])\n",
    "        if distances[k] < r3:\n",
    "            u3.append(u[k])\n",
    "            v3.append(v[k])\n",
    "    plt.title('1. Trajectories for strain rate x strain minus $v='+\"{:.2f}\".format(ramp)+\\\n",
    "              '$ mm/s ramp\\nat '+nalongitude+', and '+nalargura+' \\nwith periods $p='+str(p)+\\\n",
    "              '$ and $r$ the distance between subsequent points in '+prepos)\n",
    "    plt.plot(u3,v3,'.')\n",
    "    plt.plot(u2,v2,'.')\n",
    "    plt.plot(u1,v1,'.')\n",
    "    plt.legend((r'$'+str(r3)+' \\leq r$',r'$'+str(r2)+'\\leq r<'+str(r3)+\\\n",
    "                '$',r'$'+str(r1)+' \\leq r<'+str(r2)+'$',r'$0.0 \\leq r<'+str(r1)+'$'))\n",
    "    plt.savefig('LE11_ER11_'+nalongitude+'_'+nalargura+'_'+prepos+'_'+str(ig)+'_'+str(ms)+'.png')\n",
    "    plt.show()"
   ]
  },
  {
   "cell_type": "markdown",
   "id": "e17012b6",
   "metadata": {},
   "source": [
    "# Discussion"
   ]
  },
  {
   "cell_type": "code",
   "execution_count": null,
   "id": "4e16866d",
   "metadata": {},
   "outputs": [],
   "source": []
  },
  {
   "cell_type": "markdown",
   "id": "a4eb510a",
   "metadata": {},
   "source": [
    "# Conclusions"
   ]
  },
  {
   "cell_type": "code",
   "execution_count": null,
   "id": "db97f58f",
   "metadata": {},
   "outputs": [],
   "source": []
  }
 ],
 "metadata": {
  "kernelspec": {
   "display_name": "Python 3 (ipykernel)",
   "language": "python",
   "name": "python3"
  },
  "language_info": {
   "codemirror_mode": {
    "name": "ipython",
    "version": 3
   },
   "file_extension": ".py",
   "mimetype": "text/x-python",
   "name": "python",
   "nbconvert_exporter": "python",
   "pygments_lexer": "ipython3",
   "version": "3.9.5"
  }
 },
 "nbformat": 4,
 "nbformat_minor": 5
}
